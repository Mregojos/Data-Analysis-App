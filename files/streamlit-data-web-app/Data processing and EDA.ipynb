{
 "cells": [
  {
   "cell_type": "code",
   "execution_count": null,
   "id": "cd88e996-603f-4631-83fc-b5c7aa0f5bb0",
   "metadata": {},
   "outputs": [],
   "source": [
    "import pandas\n",
    "import plotly.express as px\n",
    "\n",
    "# 1. Bar Plot\n",
    "fig1 = px.bar(df, x='Province/Territory', y='Approved Positions', title='Approved Positions by Province/Territory')\n",
    "fig1.show()"
   ]
  },
  {
   "cell_type": "code",
   "execution_count": null,
   "id": "b029ea1e-888e-4f0c-b2ab-27a721587eff",
   "metadata": {},
   "outputs": [],
   "source": [
    "# Heatmap\n",
    "heatmap_df = df.groupby(['Province/Territory', 'Occupation']).size().reset_index(name='Counts')\n",
    "fig3 = px.density_heatmap(heatmap_df, x='Province/Territory', y='Ocupation', z='Counts', title='Ocupation Density by Province/territory')\n"
   ]
  },
  {
   "cell_type": "code",
   "execution_count": null,
   "id": "817e13f6-e315-4d39-ae30-14cd639d82fc",
   "metadata": {},
   "outputs": [],
   "source": [
    "if selected_option == \"Search\":\n",
    "    st.title(\"Search the Dataset!\")\n",
    "    data = st.selectbox(\"What data to show?\", (\"\", \"df_2022\", \"df_2022q4\", \"df_2022q3\", \"df_2022q2\", \"df_2022q1\"))\n",
    "    if data:\n",
    "        columns = st.multiselect(\"What column to show?\", [\"Program Stream\", \"Province/Territory\", \"Employer\", \"Address\", \"Occupation\", \"Code\", \"Job Title\", \"Incorporate Status\", \"Approved LMIAs\", \"Approved Positions\", \"Quarter\"])\n",
    "        selections = {}\n",
    "        if columns:\n",
    "            for col in columns: \n",
    "                selection[col] = st.multiselect(f\"Choose the value for {col}:\",df[col].unique())\n",
    "        if st.button(\"Search\"):\n",
    "            df_selection = df.copy()\n",
    "            for col, selection in selections.items():\n",
    "                df_selection = df_selection[df_selection[col].isin(selection)]\n",
    "            st.dataframe(df_selection)"
   ]
  },
  {
   "cell_type": "code",
   "execution_count": null,
   "id": "4646fc08-3082-4945-abe0-398e91da7fee",
   "metadata": {},
   "outputs": [],
   "source": [
    "Descriptive statistics\n",
    "\n",
    "Unique employers \n",
    "df['Employer'].nunique())\n",
    "\n",
    "Top 10 Employer \n",
    "top_employer = df.groupby('Employer')['Approved LMIAs'].sum().nlargest(10))\n",
    "st.write(top_empoyer)\n",
    "\n",
    "Top 5 occupations per province/territory \n",
    "top_occupations = df.groupby('Province/Territory', 'Occupation')['Approved LMIAs'].sum().reset_index()\n",
    "top_occupations = top_occupations.groupby('Province/Territory').apply(lambda x: x.nlargest(5, 'Approved Positions')).reset_index(drop=True)\n",
    "st.write(top_occupations)\n",
    "    \n",
    "LMIA percentage by program stream\n",
    "lmia_percentage = df.groupby('Program Stream')['Approved LMIAs'].sum() / df['Approved LMIAs'].sum() * 100\n",
    "st.write(lmia_percentage)\n",
    "    \n",
    "Average Approved Positions per Employer\n",
    "st.write(df['Approved Positions'].mean()\n",
    "    \n",
    "Approved positions per quarter\n",
    "st.write(df.groupby('Quarter')['Approved Positions'].sum()\n",
    "    \n",
    "Average LMIAs per occupation\n",
    "st.write(df.groupby('Occupation')['Approved LMIAs'].mean()"
   ]
  }
 ],
 "metadata": {
  "kernelspec": {
   "display_name": "Python 3 (ipykernel)",
   "language": "python",
   "name": "python3"
  },
  "language_info": {
   "codemirror_mode": {
    "name": "ipython",
    "version": 3
   },
   "file_extension": ".py",
   "mimetype": "text/x-python",
   "name": "python",
   "nbconvert_exporter": "python",
   "pygments_lexer": "ipython3",
   "version": "3.11.3"
  }
 },
 "nbformat": 4,
 "nbformat_minor": 5
}
