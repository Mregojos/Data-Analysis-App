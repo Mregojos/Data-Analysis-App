{
 "cells": [
  {
   "cell_type": "code",
   "execution_count": 2,
   "id": "27da06f4-c1c9-4408-8052-0ad93afba644",
   "metadata": {},
   "outputs": [],
   "source": [
    "import plotly as plot"
   ]
  },
  {
   "cell_type": "code",
   "execution_count": 3,
   "id": "f05b136c-afd2-4bec-a429-67e3e51e3862",
   "metadata": {
    "tags": []
   },
   "outputs": [],
   "source": [
    "import pandas as pd"
   ]
  },
  {
   "cell_type": "code",
   "execution_count": 4,
   "id": "ac989606-d59e-4256-8dcd-b31696d68f7d",
   "metadata": {
    "tags": []
   },
   "outputs": [
    {
     "data": {
      "text/plain": [
       "['__version__',\n",
       " 'colors',\n",
       " 'data',\n",
       " 'graph_objects',\n",
       " 'graph_objs',\n",
       " 'io',\n",
       " 'offline',\n",
       " 'tools',\n",
       " 'utils']"
      ]
     },
     "execution_count": 4,
     "metadata": {},
     "output_type": "execute_result"
    }
   ],
   "source": [
    "dir(plot)"
   ]
  },
  {
   "cell_type": "code",
   "execution_count": 5,
   "id": "dea4cd0b-eb5d-4cce-a423-49761a243389",
   "metadata": {
    "tags": []
   },
   "outputs": [
    {
     "name": "stdout",
     "output_type": "stream",
     "text": [
      "Help on package plotly:\n",
      "\n",
      "NAME\n",
      "    plotly - https://plot.ly/python/\n",
      "\n",
      "DESCRIPTION\n",
      "    Plotly's Python API allows users to programmatically access Plotly's\n",
      "    server resources.\n",
      "    \n",
      "    This package is organized as follows:\n",
      "    \n",
      "    Subpackages:\n",
      "    \n",
      "    - plotly: all functionality that requires access to Plotly's servers\n",
      "    \n",
      "    - graph_objs: objects for designing figures and visualizing data\n",
      "    \n",
      "    - matplotlylib: tools to convert matplotlib figures\n",
      "    \n",
      "    Modules:\n",
      "    \n",
      "    - tools: some helpful tools that do not require access to Plotly's servers\n",
      "    \n",
      "    - utils: functions that you probably won't need, but that subpackages use\n",
      "    \n",
      "    - version: holds the current API version\n",
      "    \n",
      "    - exceptions: defines our custom exception classes\n",
      "\n",
      "PACKAGE CONTENTS\n",
      "    _subplots\n",
      "    _version\n",
      "    _widget_version\n",
      "    animation\n",
      "    basedatatypes\n",
      "    basewidget\n",
      "    callbacks\n",
      "    colors (package)\n",
      "    config\n",
      "    conftest\n",
      "    dashboard_objs\n",
      "    data (package)\n",
      "    exceptions\n",
      "    express (package)\n",
      "    figure_factory (package)\n",
      "    files\n",
      "    graph_objects (package)\n",
      "    graph_objs (package)\n",
      "    grid_objs\n",
      "    io (package)\n",
      "    matplotlylib (package)\n",
      "    missing_ipywidgets\n",
      "    offline (package)\n",
      "    optional_imports\n",
      "    plotly (package)\n",
      "    presentation_objs\n",
      "    serializers\n",
      "    session\n",
      "    shapeannotation\n",
      "    subplots\n",
      "    tools\n",
      "    utils\n",
      "    validator_cache\n",
      "    validators (package)\n",
      "    version\n",
      "    widgets\n",
      "\n",
      "VERSION\n",
      "    5.14.1\n",
      "\n",
      "FILE\n",
      "    /usr/local/lib/python3.11/site-packages/plotly/__init__.py\n",
      "\n",
      "\n"
     ]
    }
   ],
   "source": [
    "help(plot)"
   ]
  },
  {
   "cell_type": "code",
   "execution_count": 9,
   "id": "f0535eec-3767-4e7b-aae5-9a683981468c",
   "metadata": {
    "tags": []
   },
   "outputs": [
    {
     "ename": "AttributeError",
     "evalue": "module 'plotly' has no attribute 'matplotlylib'",
     "output_type": "error",
     "traceback": [
      "\u001b[0;31m---------------------------------------------------------------------------\u001b[0m",
      "\u001b[0;31mAttributeError\u001b[0m                            Traceback (most recent call last)",
      "Cell \u001b[0;32mIn[9], line 1\u001b[0m\n\u001b[0;32m----> 1\u001b[0m help(\u001b[43mplot\u001b[49m\u001b[38;5;241;43m.\u001b[39;49m\u001b[43mmatplotlylib\u001b[49m)\n",
      "File \u001b[0;32m/usr/local/lib/python3.11/site-packages/_plotly_utils/importers.py:39\u001b[0m, in \u001b[0;36mrelative_import.<locals>.__getattr__\u001b[0;34m(import_name)\u001b[0m\n\u001b[1;32m     36\u001b[0m     class_module \u001b[38;5;241m=\u001b[39m importlib\u001b[38;5;241m.\u001b[39mimport_module(rel_module, parent_name)\n\u001b[1;32m     37\u001b[0m     \u001b[38;5;28;01mreturn\u001b[39;00m \u001b[38;5;28mgetattr\u001b[39m(class_module, class_name)\n\u001b[0;32m---> 39\u001b[0m \u001b[38;5;28;01mraise\u001b[39;00m \u001b[38;5;167;01mAttributeError\u001b[39;00m(\n\u001b[1;32m     40\u001b[0m     \u001b[38;5;124m\"\u001b[39m\u001b[38;5;124mmodule \u001b[39m\u001b[38;5;132;01m{__name__!r}\u001b[39;00m\u001b[38;5;124m has no attribute \u001b[39m\u001b[38;5;132;01m{name!r}\u001b[39;00m\u001b[38;5;124m\"\u001b[39m\u001b[38;5;241m.\u001b[39mformat(\n\u001b[1;32m     41\u001b[0m         name\u001b[38;5;241m=\u001b[39mimport_name, \u001b[38;5;18m__name__\u001b[39m\u001b[38;5;241m=\u001b[39mparent_name\n\u001b[1;32m     42\u001b[0m     )\n\u001b[1;32m     43\u001b[0m )\n",
      "\u001b[0;31mAttributeError\u001b[0m: module 'plotly' has no attribute 'matplotlylib'"
     ]
    }
   ],
   "source": [
    "help(plot.matplotlylib)"
   ]
  },
  {
   "cell_type": "code",
   "execution_count": null,
   "id": "3973b0ce-b81b-402b-9bc3-aa21e6f770f6",
   "metadata": {},
   "outputs": [],
   "source": []
  }
 ],
 "metadata": {
  "kernelspec": {
   "display_name": "Python 3 (ipykernel)",
   "language": "python",
   "name": "python3"
  },
  "language_info": {
   "codemirror_mode": {
    "name": "ipython",
    "version": 3
   },
   "file_extension": ".py",
   "mimetype": "text/x-python",
   "name": "python",
   "nbconvert_exporter": "python",
   "pygments_lexer": "ipython3",
   "version": "3.11.3"
  }
 },
 "nbformat": 4,
 "nbformat_minor": 5
}
